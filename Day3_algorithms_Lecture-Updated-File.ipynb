{
 "cells": [
  {
   "cell_type": "markdown",
   "metadata": {},
   "source": [
    "# Classic Algorithms"
   ]
  },
  {
   "cell_type": "markdown",
   "metadata": {},
   "source": [
    "## Tasks Today:\n",
    " \n",
    "1) <b>In-Place Algorithms</b> <br>\n",
    " &nbsp;&nbsp;&nbsp;&nbsp; a) Syntax <br>\n",
    " &nbsp;&nbsp;&nbsp;&nbsp; a) Out of Place Algorithm <br>\n",
    " &nbsp;&nbsp;&nbsp;&nbsp; b) In-Class Exercise #1 <br>\n",
    "2) <b>Two Pointers</b> <br>\n",
    "3) <b>Sorting Algorithms</b> <br>\n",
    "4) <b>Merge Sort</b> <br>\n",
    " &nbsp;&nbsp;&nbsp;&nbsp; a) Video on Algorithms <br>\n",
    " &nbsp;&nbsp;&nbsp;&nbsp; b) How it Works <br>\n",
    "5) <b>Exercises</b> <br>\n",
    " &nbsp;&nbsp;&nbsp;&nbsp; a) Exercise #1 - Reverse a List in Place Using an In-Place Algorithm <br>\n",
    " &nbsp;&nbsp;&nbsp;&nbsp; b) Exercise #2 - Find Distinct Words <br>\n",
    " &nbsp;&nbsp;&nbsp;&nbsp; c) Exercise #3 - Write a program to implement a Linear Search Algorithm. <br>"
   ]
  },
  {
   "cell_type": "markdown",
   "metadata": {},
   "source": [
    "## In-Place Algorithms"
   ]
  },
  {
   "cell_type": "markdown",
   "metadata": {},
   "source": [
    "#### Syntax"
   ]
  },
  {
   "cell_type": "code",
   "execution_count": 70,
   "metadata": {},
   "outputs": [
    {
     "name": "stdout",
     "output_type": "stream",
     "text": [
      "[20, 4, 10]\n",
      "[10, 4, 20]\n"
     ]
    }
   ],
   "source": [
    "# var[i], var[i + 1] = var[i + 1], var[i]\n",
    "# sometimes called a swap\n",
    "\n",
    "def swap(alist,x,y,z):\n",
    "    alist[x],alist[y],alist[z] = alist[z],alist[y],alist[x]\n",
    "    return alist\n",
    "\n",
    "my_list = [20,4,10]\n",
    "print(my_list)\n",
    "\n",
    "swap(my_list,0,1,2)\n",
    "\n",
    "print(my_list)"
   ]
  },
  {
   "cell_type": "markdown",
   "metadata": {},
   "source": [
    "#### Out of Place Algorithm"
   ]
  },
  {
   "cell_type": "code",
   "execution_count": 30,
   "metadata": {},
   "outputs": [
    {
     "name": "stdout",
     "output_type": "stream",
     "text": [
      "[20, 4, 10]\n",
      "Before Swap: ['a', 'b', 'c', 'd']\n",
      "After Out of Place Swap: ['d', 'c', 'b', 'a']\n"
     ]
    }
   ],
   "source": [
    "# not swapping, but rather reversing completely\n",
    "my_list_copy = my_list[::-1]\n",
    "print(my_list_copy)\n",
    "\n",
    "#Long Form Out of Place.....\n",
    "\n",
    "list_a = ['a','b','c','d']\n",
    "new_list = ['a'] * len(list_a)\n",
    "\n",
    "print(f'Before Swap: {list_a}')\n",
    "      \n",
    "length = len(list_a) - 1\n",
    "      \n",
    "for i in range(length):\n",
    "      new_list[i] = list_a[length - i]\n",
    "      \n",
    "list_a = new_list\n",
    "\n",
    "print(f'After Out of Place Swap: {list_a}')"
   ]
  },
  {
   "cell_type": "markdown",
   "metadata": {},
   "source": [
    "#### In-Class Exercise #1 <br>\n",
    "<p>Write a function that takes in four arguments (list, index1, index2, index3), and swaps those three positions in the list passed in.</p>"
   ]
  },
  {
   "cell_type": "code",
   "execution_count": 31,
   "metadata": {},
   "outputs": [
    {
     "data": {
      "text/plain": [
       "[6, 4, 3, 8, 4, 2, 10]"
      ]
     },
     "execution_count": 31,
     "metadata": {},
     "output_type": "execute_result"
    }
   ],
   "source": [
    "l_1 = [10, 4, 3, 8, 4, 2, 6]\n",
    "def swap_idex(alist,index1,index2,index3):\n",
    "    alist[index1],alist[index2],alist[index3] = alist[index3],alist[index2],alist[index1]\n",
    "    return alist\n",
    "\n",
    "swap_idex(l_1, 0,2,6)\n",
    "\n"
   ]
  },
  {
   "cell_type": "markdown",
   "metadata": {},
   "source": [
    "## Two Pointers"
   ]
  },
  {
   "cell_type": "markdown",
   "metadata": {},
   "source": [
    "#### Syntax"
   ]
  },
  {
   "cell_type": "code",
   "execution_count": 50,
   "metadata": {},
   "outputs": [
    {
     "name": "stdout",
     "output_type": "stream",
     "text": [
      "Before Swap: [1, 2, 3, 12, 9, 8, 11, 22]\n",
      "After Swap: [22, 2, 3, 12, 9, 8, 11, 1]\n"
     ]
    }
   ],
   "source": [
    "# using two pointers to swap info, can use a while loop for most cases\n",
    "\n",
    "def twoPointers(alist):\n",
    "    #Creation of pointers\n",
    "    left = 0\n",
    "    right = len(alist) -1\n",
    "    while left <= right:\n",
    "        alist[left], alist[right] = alist[right],alist[left]\n",
    "        left += 1\n",
    "        right -=1\n",
    "        return alist\n",
    "    \n",
    "my_list2 = [1,2,3,12,9,8,11,22]\n",
    "\n",
    "print(f'Before Swap: {my_list2}')\n",
    "\n",
    "twoPointers(my_list2)\n",
    "\n",
    "print(f'After Swap: {my_list2}')"
   ]
  },
  {
   "cell_type": "markdown",
   "metadata": {},
   "source": [
    "#### Video of Algorithms <br>\n",
    "<p>Watch the video about algorithms.</p>\n",
    "\n",
    "https://www.youtube.com/watch?v=Q9HjeFD62Uk\n",
    "\n",
    "https://www.youtube.com/watch?v=kPRA0W1kECg\n",
    "\n",
    "https://www.youtube.com/watch?v=ZZuD6iUe3Pc"
   ]
  },
  {
   "cell_type": "markdown",
   "metadata": {},
   "source": [
    "# Sorting Algorithms"
   ]
  },
  {
   "cell_type": "code",
   "execution_count": null,
   "metadata": {},
   "outputs": [],
   "source": []
  },
  {
   "cell_type": "markdown",
   "metadata": {},
   "source": [
    "#### Bubble Sort\n",
    "\n",
    "Worst Case: O(n^2) Time - O(1) Space"
   ]
  },
  {
   "cell_type": "code",
   "execution_count": 56,
   "metadata": {},
   "outputs": [
    {
     "name": "stdout",
     "output_type": "stream",
     "text": [
      "8\n"
     ]
    }
   ],
   "source": [
    "#Best case: O(n) - Linear\n",
    "\n",
    "def swap(i, j, alist):\n",
    "    alist[i],alist[j] = alist[j],alist[i]\n",
    "    \n",
    "def bubbleSort(alist):\n",
    "    isSorted = False\n",
    "    while not isSorted:\n",
    "        isSorted = True\n",
    "        for num in range(len(alist) - 1):\n",
    "            if alist[num] > alist[num + 1]:\n",
    "                swap(num, num + 1, alist)\n",
    "                isSorted = False\n",
    "    return alist\n",
    "bubbleSort([22,55,88,44,1,100,34,66])\n",
    "\n",
    "alist = [22,55,88,44,1,100,34,66]\n",
    "print(len(alist))"
   ]
  },
  {
   "cell_type": "markdown",
   "metadata": {},
   "source": [
    "##### Insertion Sort\n",
    "\n",
    "Worst Case: O(n^2) time - O(1)space"
   ]
  },
  {
   "cell_type": "code",
   "execution_count": 62,
   "metadata": {},
   "outputs": [
    {
     "data": {
      "text/plain": [
       "[22, 55, 44, 1, 88, 34, 66, 100]"
      ]
     },
     "execution_count": 62,
     "metadata": {},
     "output_type": "execute_result"
    }
   ],
   "source": [
    "def swap(i, j, alist):\n",
    "    alist[i],alist[j] = alist[j],alist[i]\n",
    "    \n",
    "def insertionSort(alist):\n",
    "    \n",
    "    for i in range(1, len(alist)):\n",
    "        j = i\n",
    "        while j > 0 and alist[i] < alist[j - 1]:\n",
    "            swap(j, j - 1, alist)\n",
    "            j -= 1\n",
    "    return alist\n",
    "\n",
    "insertionSort([22,55,88,44,1,100,34,66])"
   ]
  },
  {
   "cell_type": "markdown",
   "metadata": {},
   "source": [
    "## Merge Sort"
   ]
  },
  {
   "cell_type": "markdown",
   "metadata": {},
   "source": [
    "#### How it Works"
   ]
  },
  {
   "cell_type": "code",
   "execution_count": 63,
   "metadata": {},
   "outputs": [
    {
     "name": "stdout",
     "output_type": "stream",
     "text": [
      "Splitting:  [20, 5, 14, 17, 4]\n",
      "Splitting:  [20, 5]\n",
      "Splitting:  [20]\n",
      "Merging:  [20]\n",
      "Splitting:  [5]\n",
      "Merging:  [5]\n",
      "Merging:  [5, 20]\n",
      "Splitting:  [14, 17, 4]\n",
      "Splitting:  [14]\n",
      "Merging:  [14]\n",
      "Splitting:  [17, 4]\n",
      "Splitting:  [17]\n",
      "Merging:  [17]\n",
      "Splitting:  [4]\n",
      "Merging:  [4]\n",
      "Merging:  [4, 17]\n",
      "Merging:  [4, 14, 17]\n",
      "Merging:  [4, 5, 14, 17, 20]\n"
     ]
    },
    {
     "data": {
      "text/plain": [
       "[4, 5, 14, 17, 20]"
      ]
     },
     "execution_count": 63,
     "metadata": {},
     "output_type": "execute_result"
    }
   ],
   "source": [
    "# Step 1: Split everything into it's own group\n",
    "# Step 2: From left to right merge two groups together\n",
    "# Step 3: While merging, place each item in the correct position within the merged group\n",
    "# Step 4: Continue steps 3-4 until one group is left\n",
    "\n",
    "from random import randint\n",
    "\n",
    "nums = [randint(0, 20) for i in range(5)]\n",
    "another_list = [22,55,88,44,1,100,34,66]\n",
    "\n",
    "def mergeSort(alist):\n",
    "    print(f'Splitting...: {alist}')\n",
    "    \n",
    "    if len(alist) > 1:\n",
    "        mid = len(alist)//2\n",
    "        lefthalf = alist[:mid]\n",
    "        righthalf = alist[mid:]\n",
    "        \n",
    "        # recursively call mergesort to perform splits and merges as needed\n",
    "        mergeSort(lefthalf)\n",
    "        mergeSort(righthalf)\n",
    "        \n",
    "        # set index for our list\n",
    "        i = 0 #Pointer for left half\n",
    "        j = 0 #Pointer for right half\n",
    "        k = 0 #Pointer for main array/list\n",
    "        \n",
    "        # step 2: compare the lefthalf and righthalf\n",
    "        while i < len(lefthalf) and j < len(righthalf):\n",
    "            if lefthalf[i] < righthalf[j]:\n",
    "                alist[k] = lefthalf[i]\n",
    "                i = i + 1\n",
    "            else:\n",
    "                alist[k] = righthalf[j]\n",
    "                j = j + 1\n",
    "            k = k + 1\n",
    "            \n",
    "        while i < len(lefthalf):\n",
    "            alist[k] = lefthalf[i]\n",
    "            i = i + 1\n",
    "            k = k + 1\n",
    "        while j < len(righthalf):\n",
    "            alist[k] = righthalf[j]\n",
    "            j = j + 1\n",
    "            k = k + 1\n",
    "    print(\"Merging: \", alist) \n",
    "    return alist\n",
    "    \n",
    "mergeSort(nums)"
   ]
  },
  {
   "cell_type": "markdown",
   "metadata": {},
   "source": [
    "# Binary Search\n",
    "\n",
    "The Binary Search algorithm works by finding the number in the middle of a given array and comparing it to the target. Given that the array is sorted\n",
    "\n",
    "* The worst case run time for this algorithm is `O(log(n))`"
   ]
  },
  {
   "cell_type": "code",
   "execution_count": 88,
   "metadata": {},
   "outputs": [
    {
     "data": {
      "text/plain": [
       "'The index is...1'"
      ]
     },
     "execution_count": 88,
     "metadata": {},
     "output_type": "execute_result"
    }
   ],
   "source": [
    "# Less == left\n",
    "# Greater = Right\n",
    "#list of numbers MUSt be sorted\n",
    "\n",
    "\n",
    "\n",
    "def binarySearch(array,target):\n",
    "    return binarySearchHelperFunc(array,target,0,len(array)-1)\n",
    "\n",
    "def binarySearchHelperFunc(array, target, left, right):\n",
    "    while left <= right:\n",
    "        middle = (left + right) // 2\n",
    "        potentialMatch = array[middle]\n",
    "        if target == potentialMatch:\n",
    "            return \"The index is...{}\".format(middle)\n",
    "        elif target < potentialMatch:\n",
    "            right = middle - 1\n",
    "        else:\n",
    "            left = middle + 1\n",
    "    return -1\n",
    "binarySearch([22,44,55,66,88,100], 44)"
   ]
  },
  {
   "cell_type": "markdown",
   "metadata": {},
   "source": [
    "# Exercises"
   ]
  },
  {
   "cell_type": "markdown",
   "metadata": {},
   "source": [
    "### Exercise #1 <br>\n",
    "<p>Reverse the list below in-place using an in-place algorithm.<br>For extra credit: Reverse the strings at the same time.</p>"
   ]
  },
  {
   "cell_type": "code",
   "execution_count": 98,
   "metadata": {},
   "outputs": [
    {
     "name": "stdout",
     "output_type": "stream",
     "text": [
      "['this', 'is', 'a', 'sentence', '.']\n",
      "['.', 'sentence', 'a', 'is', 'this']\n"
     ]
    }
   ],
   "source": [
    "words = ['this' , 'is', 'a', 'sentence', '.']\n",
    "\n",
    "#ShortWay #NOTE this only reverses the list\n",
    "\n",
    "# words[::-1]\n",
    "\n",
    "#LongWay\n",
    "\n",
    "def reverse(alizt,a,b,c,d,e):\n",
    "    alizt[a],alizt[b],alizt[c],alizt[d],alizt[e] = alizt[e],alizt[d],alizt[c],alizt[b],alizt[a]\n",
    "    return alizt\n",
    "\n",
    "print(words)\n",
    "reverse(words,0,1,2,3,4)\n",
    "# reverse(words,0,1,3,2,4)\n",
    "print(words)"
   ]
  },
  {
   "cell_type": "markdown",
   "metadata": {},
   "source": [
    "### Exercise #2 <br>\n",
    "<p>Create a function that counts how many distinct words are in the string below, then outputs a dictionary with the words as the key and the value as the amount of times that word appears in the string.<br>Should output:<br>{'a': 5,<br>\n",
    " 'abstract': 1,<br>\n",
    " 'an': 3,<br>\n",
    " 'array': 2, ... etc...</p>"
   ]
  },
  {
   "cell_type": "code",
   "execution_count": 107,
   "metadata": {},
   "outputs": [
    {
     "name": "stdout",
     "output_type": "stream",
     "text": [
      "> In >: 1\n",
      "> computing, >: 1\n",
      "> a >: 5\n",
      "> hash >: 4\n",
      "> table >: 2\n",
      "> map >: 2\n",
      "> is >: 1\n",
      "> data >: 2\n",
      "> structure >: 2\n",
      "> which >: 2\n",
      "> implements >: 1\n",
      "> an >: 3\n",
      "> associative >: 1\n",
      "> array >: 2\n",
      "> abstract >: 1\n",
      "> type, >: 1\n",
      "> that >: 1\n",
      "> can >: 2\n",
      "> keys >: 1\n",
      "> to >: 2\n",
      "> values. >: 1\n",
      "> uses >: 1\n",
      "> function >: 1\n",
      "> compute >: 1\n",
      "> index >: 1\n",
      "> into >: 1\n",
      "> of >: 1\n",
      "> buckets >: 1\n",
      "> or >: 1\n",
      "> slots >: 1\n",
      "> from >: 1\n",
      "> the >: 1\n",
      "> desired >: 1\n",
      "> value >: 1\n",
      "> be >: 1\n",
      "> found >: 1\n",
      "In computing, a hash table hash map is a data structure which implements an associative array abstract data type, a structure that can map keys to values. a hash table uses a hash function to compute an index into an array of buckets or slots from which the desired value can be found\n"
     ]
    }
   ],
   "source": [
    "a_text = 'In computing, a hash table hash map is a data structure which implements an associative array abstract data type, a structure that can map keys to values. a hash table uses a hash function to compute an index into an array of buckets or slots from which the desired value can be found'\n",
    "\n",
    "def Count(a_text):   \n",
    "    a_text = a_text.split()          \n",
    "    b_text = []\n",
    "    for i in a_text:              \n",
    "        if i not in b_text: \n",
    "            b_text.append(i)  \n",
    "              \n",
    "    for i in range(0, len(b_text)): \n",
    "        print('>', b_text[i], '>:', a_text.count(b_text[i]))\n",
    "\n",
    "\n",
    "def main(): \n",
    "    a_text = 'In computing, a hash table hash map is a data structure which implements an associative array abstract data type, a structure that can map keys to values. a hash table uses a hash function to compute an index into an array of buckets or slots from which the desired value can be found'\n",
    "    Count(a_text)                     \n",
    "  \n",
    "if __name__==\"__main__\": \n",
    "    main()              \n",
    "\n",
    "print(a_text)\n"
   ]
  },
  {
   "cell_type": "markdown",
   "metadata": {},
   "source": [
    "## Exercise #3\n",
    "\n",
    "Write a program to implement a Linear Search Algorithm. Also in a comment, write the Time Complexity of the following algorithm.\n",
    "\n",
    "#### Hint: Linear Searching will require searching a list for a given number. "
   ]
  },
  {
   "cell_type": "code",
   "execution_count": 99,
   "metadata": {},
   "outputs": [
    {
     "name": "stdout",
     "output_type": "stream",
     "text": [
      "[6, 7]\n"
     ]
    }
   ],
   "source": [
    "#Try 1\n",
    "\n",
    "# from random import randint\n",
    "\n",
    "# nums = [randint(0, 100) for i in range(10)]\n",
    "\n",
    "# print(nums)\n",
    "\n",
    "\n",
    "#Try 2\n",
    "\n",
    "lizt = [1, 13, 6, 12, 2, 3, 4, 4, 6]\n",
    "el = 4\n",
    "\n",
    "find = [i for i in range(len(lizt)) if el == lizt[i]]\n",
    "\n",
    "print(find)\n",
    "\n",
    "#try 3\n"
   ]
  },
  {
   "cell_type": "code",
   "execution_count": null,
   "metadata": {},
   "outputs": [],
   "source": []
  },
  {
   "cell_type": "code",
   "execution_count": null,
   "metadata": {},
   "outputs": [],
   "source": []
  }
 ],
 "metadata": {
  "kernelspec": {
   "display_name": "Python 3",
   "language": "python",
   "name": "python3"
  },
  "language_info": {
   "codemirror_mode": {
    "name": "ipython",
    "version": 3
   },
   "file_extension": ".py",
   "mimetype": "text/x-python",
   "name": "python",
   "nbconvert_exporter": "python",
   "pygments_lexer": "ipython3",
   "version": "3.7.6"
  }
 },
 "nbformat": 4,
 "nbformat_minor": 2
}
